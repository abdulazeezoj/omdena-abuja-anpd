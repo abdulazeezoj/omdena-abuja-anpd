{
  "cells": [
    {
      "cell_type": "markdown",
      "metadata": {},
      "source": [
        "# <div align=\"center\">Training Omedena Abuja ANPD</div>\n",
        "\n",
        "<p align=\"center\">\n",
        "Training of Omdena Abuja ANPD should be done in a GPU enabled environment.\n",
        "</p>\n",
        "\n",
        "<div div align=\"center\">\n",
        "   <a href=\"https://colab.research.google.com/github/abdulazeezoj/omdena-abuja-anpd/blob/master/notebook/Train_ANPD.ipynb\"><img src=\"https://colab.research.google.com/assets/colab-badge.svg\" alt=\"Open In Colab\"></a>\n",
        "</div>\n",
        "\n",
        "----"
      ]
    },
    {
      "cell_type": "markdown",
      "metadata": {
        "colab_type": "text",
        "id": "gE3azXoR_pWi"
      },
      "source": [
        "## 1. Cloning and Building Darknet\n",
        "\n",
        "The Omdena Abuja ANPD is trained on YOLOv4-Tiny. You only look once (YOLO) is a state-of-the-art, real-time object detection system. In the following cells *darknet* from *AlexeyAB's* famous repository will be cloned, you will adjust the Makefile to enable OPENCV and GPU for *darknet* and then build *darknet*."
      ]
    },
    {
      "cell_type": "code",
      "execution_count": null,
      "metadata": {
        "colab": {
          "base_uri": "https://localhost:8080/",
          "height": 35
        },
        "colab_type": "code",
        "id": "68eMertgIxaB",
        "outputId": "9e7cd7bf-45e8-478e-e52b-bec9919e7952"
      },
      "outputs": [],
      "source": [
        "# clone darknet repository\n",
        "\n",
        "!git clone https://github.com/AlexeyAB/darknet"
      ]
    },
    {
      "cell_type": "code",
      "execution_count": null,
      "metadata": {
        "colab": {
          "base_uri": "https://localhost:8080/",
          "height": 87
        },
        "colab_type": "code",
        "id": "5uloUwmUKF05",
        "outputId": "459408c6-93b7-4b4f-c2fc-c71e1d8f6552"
      },
      "outputs": [
        {
          "name": "stdout",
          "output_type": "stream",
          "text": [
            "nvcc: NVIDIA (R) Cuda compiler driver\n",
            "Copyright (c) 2005-2019 NVIDIA Corporation\n",
            "Built on Sun_Jul_28_19:07:16_PDT_2019\n",
            "Cuda compilation tools, release 10.1, V10.1.243\n"
          ]
        }
      ],
      "source": [
        "# verify CUDA\n",
        "\n",
        "!nvcc --version"
      ]
    },
    {
      "cell_type": "code",
      "execution_count": null,
      "metadata": {
        "colab": {
          "base_uri": "https://localhost:8080/",
          "height": 35
        },
        "colab_type": "code",
        "id": "xym8_m8CIyXK",
        "outputId": "480d2c73-847d-45cf-d2df-f863b94d30c7"
      },
      "outputs": [],
      "source": [
        "# change makefile to have GPU and OPENCV enabled\n",
        "\n",
        "%cd darknet  # cd into darknet dir\n",
        "\n",
        "!sed -i 's/OPENCV=0/OPENCV=1/' Makefile\n",
        "!sed -i 's/GPU=0/GPU=1/' Makefile\n",
        "!sed -i 's/CUDNN=0/CUDNN=1/' Makefile\n",
        "!sed -i 's/CUDNN_HALF=0/CUDNN_HALF=1/' Makefile"
      ]
    },
    {
      "cell_type": "code",
      "execution_count": null,
      "metadata": {
        "colab": {
          "base_uri": "https://localhost:8080/",
          "height": 1000
        },
        "colab_type": "code",
        "id": "q2Jjv0yRKLPe",
        "outputId": "f02743d8-8cd0-46e6-89cd-94f6461ebbc8"
      },
      "outputs": [],
      "source": [
        "# builds darknet\n",
        "\n",
        "!make\n",
        "\n",
        "%cd ../  # cd out of darknet dir"
      ]
    },
    {
      "cell_type": "markdown",
      "metadata": {
        "colab_type": "text",
        "id": "ikgv38AdKldo"
      },
      "source": [
        "## 2. Download Omdena Abuja ANPD Config\n",
        "\n",
        "The Omdena Abuja ANPD Config contains configuration files required to train the ANPD and YOLOv4-Tiny weights file that has been trained already on the coco dataset which has 80 classes that it can predict. We will grab the config so that we can run YOLOv4 on these pretrained weights and get detections."
      ]
    },
    {
      "cell_type": "code",
      "execution_count": null,
      "metadata": {
        "colab": {
          "base_uri": "https://localhost:8080/",
          "height": 319
        },
        "colab_type": "code",
        "id": "vVtgyY_ELoSf",
        "outputId": "4af76309-0e35-406a-cf67-8f3d45933dce"
      },
      "outputs": [],
      "source": [
        "# download and unzip config file\n",
        "\n",
        "!wget https://github.com/abdulazeezoj/omdena-abuja-anpd/releases/download/v0.1.0-alpha/anpd.zip\n",
        "!unzip anpd.zip\n",
        "\n",
        "%cd anpd\n",
        "!wget https://github.com/AlexeyAB/darknet/releases/download/darknet_yolo_v4_pre/yolov4-tiny.conv.29\n",
        "\n",
        "%cd ../"
      ]
    },
    {
      "cell_type": "markdown",
      "metadata": {
        "colab_type": "text",
        "id": "xn7TpB-UMBWf"
      },
      "source": [
        "## 3. Define Helper Functions\n",
        "\n",
        "The following functions are helper functions that will allow you to show the image in your Colab Notebook after running your detections, as well as upload and download files to and from Colab."
      ]
    },
    {
      "cell_type": "code",
      "execution_count": null,
      "metadata": {
        "colab": {},
        "colab_type": "code",
        "id": "G9Fv0wjCMPYY"
      },
      "outputs": [],
      "source": [
        "# define helper functions\n",
        "\n",
        "# function to display image\n",
        "def imShow(path):\n",
        "    import cv2\n",
        "    import matplotlib.pyplot as plt\n",
        "    %matplotlib inline\n",
        "\n",
        "    image = cv2.imread(path)\n",
        "    height, width = image.shape[:2]\n",
        "    resized_image = cv2.resize(\n",
        "        image, (3*width, 3*height), interpolation=cv2.INTER_CUBIC)\n",
        "\n",
        "    fig = plt.gcf()\n",
        "    fig.set_size_inches(18, 10)\n",
        "    plt.axis(\"off\")\n",
        "    plt.imshow(cv2.cvtColor(resized_image, cv2.COLOR_BGR2RGB))\n",
        "    plt.show()\n",
        "\n",
        "\n",
        "# function to download a file\n",
        "def download(path):\n",
        "    from google.colab import files\n",
        "    files.download(path)\n",
        "\n",
        "\n",
        "# function to upload a file\n",
        "def upload():\n",
        "    from google.colab import files\n",
        "    uploaded = files.upload()\n",
        "    for name, data in uploaded.items():\n",
        "        with open(f'/content/upload/{name}', 'wb') as f:\n",
        "            f.write(data)\n",
        "            print('saved file', name)\n"
      ]
    },
    {
      "cell_type": "markdown",
      "metadata": {
        "colab_type": "text",
        "id": "9ket44SxkdBu"
      },
      "source": [
        "## 4. Bring ANPD Dataset Into Colab"
      ]
    },
    {
      "cell_type": "code",
      "execution_count": null,
      "metadata": {
        "colab": {},
        "colab_type": "code",
        "id": "zqLQF0fNWJro"
      },
      "outputs": [],
      "source": [
        "# unzip dataset into the anpd folder\n",
        "!unzip /mydrive/Omdena Abuja ANPD/obj.zip -d /content/anpd/"
      ]
    },
    {
      "cell_type": "code",
      "execution_count": null,
      "metadata": {},
      "outputs": [],
      "source": [
        "import glob\n",
        "\n",
        "# make train.txt and test.txt file\n",
        "file_train = open('/content/anpd/train.txt', 'w')\n",
        "file_test = open('/content/anpd/test.txt', 'w')\n",
        "\n",
        "img_list = glob.glob(f\"/content/anpd/obj/*.jpg\", recursive=False)\n",
        "dataset_size = len(img_list)\n",
        "train_pct = 0.9\n",
        "\n",
        "train_idx = round(dataset_size * train_pct)\n",
        "print(f\"{len(img_list)} images found\")\n",
        "for i, img in enumerate(img_list, 1):\n",
        "    file_train.write(img.replace(\"\\\\\", \"/\") + \"\\n\")\n",
        "\n",
        "    if i > train_idx:\n",
        "        file_test.write(img.replace(\"\\\\\", \"/\") + \"\\n\")\n",
        "\n",
        "file_train.close()\n",
        "file_test.close()\n"
      ]
    },
    {
      "cell_type": "markdown",
      "metadata": {
        "colab_type": "text",
        "id": "POozxsvFdXTu"
      },
      "source": [
        "## 5. Train ANPD"
      ]
    },
    {
      "cell_type": "markdown",
      "metadata": {},
      "source": [
        "**TIP**: This training could take several hours depending on how many iterations you chose in the .cfg file. You will want to let this run as you sleep or go to work for the day, etc. However, Colab Cloud Service kicks you off it's VMs if you are idle for too long (30-90 mins).\n",
        "\n",
        "To avoid this hold (CTRL + SHIFT + i) at the same time to open up the inspector view on your browser.\n",
        "\n",
        "Paste the following code into your console window and hit Enter\n",
        "```\n",
        "function ClickConnect(){\n",
        "console.log(\"Working\"); \n",
        "document\n",
        "  .querySelector('#top-toolbar > colab-connect-button')\n",
        "  .shadowRoot.querySelector('#connect')\n",
        "  .click() \n",
        "}\n",
        "setInterval(ClickConnect,60000)\n",
        "```\n",
        "Looks like this, it will click the screen every 10 minutes so that you don't get kicked off for being idle! HACKS!"
      ]
    },
    {
      "cell_type": "markdown",
      "metadata": {},
      "source": [
        "*Double click to start training from best pre-trained weights*\n",
        "\n",
        "<!-- remove the comment sign above and below\n",
        "# starting training from last pre-trained weights [optional]\n",
        "\n",
        "!./darknet detector train /content/anpd/anpd.data /content/anpd/anpd.cfg /content/anpd/out/anpd_best.weights -dont_show\n",
        "change cell to code to run it-->"
      ]
    },
    {
      "cell_type": "code",
      "execution_count": null,
      "metadata": {},
      "outputs": [],
      "source": [
        "# start training\n",
        "\n",
        "!./darknet detector train /content/anpd/anpd.data /content/anpd/anpd.cfg /content/anpd/yolov4-tiny.conv.29 -dont_show -map"
      ]
    },
    {
      "cell_type": "markdown",
      "metadata": {},
      "source": [
        "*Double click to resume training from last weights*\n",
        "\n",
        "<!-- remove the comment sign above and below\n",
        "# resuming training from last weights [optional]\n",
        "\n",
        "!./darknet detector train /content/anpd/anpd.data /content/anpd/anpd.cfg /content/anpd/out/obj_last.weights - dont_show\n",
        "chane cell to code to run it-->\n"
      ]
    },
    {
      "cell_type": "code",
      "execution_count": null,
      "metadata": {},
      "outputs": [],
      "source": [
        "# show chart.png of how ANPD did with training\n",
        "\n",
        "imShow('chart.png')"
      ]
    },
    {
      "cell_type": "code",
      "execution_count": null,
      "metadata": {},
      "outputs": [],
      "source": [
        "# checking mAP\n",
        "\n",
        "!./darknet detector map /content/anpd/anpd.data /content/anpd/anpd.cfg /content/anpd/out/obj_best.weights"
      ]
    },
    {
      "cell_type": "markdown",
      "metadata": {
        "colab_type": "text",
        "id": "POozxsvFdXTu"
      },
      "source": [
        "## 6. Test ANPD"
      ]
    },
    {
      "cell_type": "code",
      "execution_count": null,
      "metadata": {
        "colab": {
          "base_uri": "https://localhost:8080/",
          "height": 52
        },
        "colab_type": "code",
        "id": "xXkZNeA09o2f",
        "outputId": "7adfc9a3-a5cb-4833-a04e-45e336c8b282"
      },
      "outputs": [],
      "source": [
        "# need to set our custom cfg to test mode \n",
        "\n",
        "%cd /content/anpd/\n",
        "\n",
        "!sed -i 's/batch=64/batch=1/' anpd.cfg\n",
        "!sed -i 's/subdivisions=16/subdivisions=1/' anpd.cfg\n",
        "\n",
        "%cd /content/darknet/"
      ]
    },
    {
      "cell_type": "code",
      "execution_count": null,
      "metadata": {},
      "outputs": [],
      "source": [
        "# upload test image\n",
        "upload()"
      ]
    },
    {
      "cell_type": "code",
      "execution_count": null,
      "metadata": {
        "colab": {
          "base_uri": "https://localhost:8080/",
          "height": 1000
        },
        "colab_type": "code",
        "id": "o7IIzEal90dA",
        "outputId": "26a870ca-fc36-474c-b503-7f214fdb4db2"
      },
      "outputs": [],
      "source": [
        "# start testing\n",
        "\n",
        "!./darknet detector test /content/anpd/anpd.data /content/anpd/anpd.cfg /content/anpd/out/obj_best.weights /content/upload/filename -thresh 0.3\n",
        "\n",
        "imShow('predictions.jpg')"
      ]
    },
    {
      "cell_type": "markdown",
      "metadata": {
        "colab_type": "text",
        "id": "H8DYUTHiEeGZ"
      },
      "source": [
        "# Thanks!\n",
        "\n",
        "[Abdulazeez Jimoh](https://www.linkedin.com/in/abdulazeez-oj)"
      ]
    }
  ],
  "metadata": {
    "accelerator": "GPU",
    "colab": {
      "collapsed_sections": [],
      "name": "Train_ANPD.ipynb",
      "provenance": [],
      "toc_visible": true
    },
    "kernelspec": {
      "display_name": "Python 3",
      "name": "python3"
    }
  },
  "nbformat": 4,
  "nbformat_minor": 0
}
