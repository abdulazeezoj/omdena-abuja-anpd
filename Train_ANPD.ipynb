{
 "cells": [
  {
   "cell_type": "markdown",
   "metadata": {},
   "source": [
    "## Get Data and Config Files\n",
    "\n",
    "```\n",
    "batch=32\n",
    "subdivisions=16\n",
    "width=512\n",
    "height=512  (larger will slow down training)\n",
    "max_batches=6000  (No of classes) * 2000. -> (but no less than 6000)\n",
    "steps=4800,5400  (80% of max_batches), (90% of max_batches)\n",
    "classes=1  number of classes in your dataset. Change this value in each YOLO layer.\n",
    "Before each yolo layer is a convolutional layer, change the filters according to this formula: \n",
    "filters=18  (No. of classes + 5) * 3\n",
    "```"
   ]
  },
  {
   "cell_type": "code",
   "execution_count": 3,
   "metadata": {},
   "outputs": [
    {
     "name": "stdout",
     "output_type": "stream",
     "text": [
      "60 images found\n"
     ]
    }
   ],
   "source": [
    "import glob\n",
    "\n",
    "\n",
    "# download dataset\n",
    "!wget https://github.com/abdulazeezoj/omdena-abuja-anpd/raw/main/src/yolov4.zip\n",
    "\n",
    "# unzip out dataset\n",
    "!unzip yolov4.zip\n",
    "\n",
    "# make train.txt and test.txt file\n",
    "file_train = open('/content/yolov4/data/train.txt', 'w')\n",
    "file_test = open('/content/yolov4/data/test.txt', 'w')\n",
    "\n",
    "img_list = glob.glob(f\"/content/yolov4/data/obj/*.jpg\", recursive=False)\n",
    "dataset_size = len(img_list)\n",
    "train_pct = 0.9\n",
    "\n",
    "train_idx = round(dataset_size * train_pct)\n",
    "print(f\"{len(img_list)} images found\")\n",
    "for i, img in enumerate(img_list):\n",
    "\n",
    "    if i > train_idx:\n",
    "        file_train.write(img.replace(\"\\\\\", \"/\") + \"\\n\")\n",
    "    \n",
    "    file_test.write(img.replace(\"\\\\\", \"/\") + \"\\n\")\n",
    "\n",
    "file_train.close()\n",
    "file_test.close()\n",
    "\n",
    "# cd into yolov4 directory\n",
    "%cd yolov4\n"
   ]
  },
  {
   "cell_type": "code",
   "execution_count": 2,
   "metadata": {},
   "outputs": [
    {
     "data": {
      "text/plain": [
       "10"
      ]
     },
     "execution_count": 2,
     "metadata": {},
     "output_type": "execute_result"
    }
   ],
   "source": [
    "round(100 / 10)"
   ]
  },
  {
   "cell_type": "markdown",
   "metadata": {},
   "source": [
    "## Clone *darknet* git repository"
   ]
  },
  {
   "cell_type": "code",
   "execution_count": null,
   "metadata": {},
   "outputs": [],
   "source": [
    "!git clone https://github.com/AlexeyAB/darknet"
   ]
  },
  {
   "cell_type": "code",
   "execution_count": null,
   "metadata": {},
   "outputs": [],
   "source": [
    "%cd darknet\n",
    "!sed -i 's/OPENCV=0/OPENCV=1/' Makefile\n",
    "!sed -i 's/GPU=0/GPU=1/' Makefile\n",
    "!sed -i 's/CUDNN=0/CUDNN=1/' Makefile\n",
    "!sed -i 's/CUDNN_HALF=0/CUDNN_HALF=1/' Makefile\n",
    "!sed -i 's/OPENMP=0/OPENMP=1/' Makefile"
   ]
  },
  {
   "cell_type": "code",
   "execution_count": null,
   "metadata": {},
   "outputs": [],
   "source": [
    "!wget https://github.com/AlexeyAB/darknet/releases/download/darknet_yolo_v3_optimal/yolov4.conv.137"
   ]
  }
 ],
 "metadata": {
  "interpreter": {
   "hash": "ecf5722fdaf1897a315d257d89d94520bfcaa453217d5becf09b39e73618b0de"
  },
  "kernelspec": {
   "display_name": "Python 3.9.7 64-bit ('base': conda)",
   "language": "python",
   "name": "python3"
  },
  "language_info": {
   "codemirror_mode": {
    "name": "ipython",
    "version": 3
   },
   "file_extension": ".py",
   "mimetype": "text/x-python",
   "name": "python",
   "nbconvert_exporter": "python",
   "pygments_lexer": "ipython3",
   "version": "3.9.7"
  },
  "orig_nbformat": 4
 },
 "nbformat": 4,
 "nbformat_minor": 2
}
