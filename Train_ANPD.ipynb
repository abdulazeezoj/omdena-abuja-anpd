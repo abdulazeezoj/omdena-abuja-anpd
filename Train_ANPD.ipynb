{
 "cells": [
  {
   "cell_type": "markdown",
   "metadata": {},
   "source": [
    "## Prepare Dataset and Config Files"
   ]
  },
  {
   "cell_type": "code",
   "execution_count": 3,
   "metadata": {},
   "outputs": [
    {
     "name": "stdout",
     "output_type": "stream",
     "text": [
      "60 images found\n"
     ]
    }
   ],
   "source": [
    "import glob\n",
    "\n",
    "\n",
    "# download dataset\n",
    "!wget https: // github.com/abdulazeezoj/omdena-abuja-anpd/raw/main/yolov4.zip\n",
    "\n",
    "# unzip out dataset\n",
    "!unzip yolov4.zip\n",
    "\n",
    "# make train.txt and test.txt file\n",
    "file_train = open('/content/yolov4/data/train.txt', 'w')\n",
    "file_test = open('/content/yolov4/data/test.txt', 'w')\n",
    "\n",
    "img_list = glob.glob(f\"/content/yolov4/data/obj/*.jpg\", recursive=False)\n",
    "dataset_size = len(img_list)\n",
    "train_pct = 0.9\n",
    "\n",
    "train_idx = round(dataset_size * train_pct)\n",
    "print(f\"{len(img_list)} images found\")\n",
    "for i, img in enumerate(img_list, 1):\n",
    "    file_train.write(img.replace(\"\\\\\", \"/\") + \"\\n\")\n",
    "    \n",
    "    if i > train_idx:\n",
    "        file_test.write(img.replace(\"\\\\\", \"/\") + \"\\n\")\n",
    "\n",
    "file_train.close()\n",
    "file_test.close()\n",
    "\n",
    "# cd into yolov4 directory\n",
    "%cd yolov4\n"
   ]
  },
  {
   "cell_type": "markdown",
   "metadata": {},
   "source": [
    "## Train ANPD with YOLOv4"
   ]
  },
  {
   "cell_type": "code",
   "execution_count": null,
   "metadata": {},
   "outputs": [],
   "source": [
    "# clone darknet repository\n",
    "!git clone https://github.com/AlexeyAB/darknet"
   ]
  },
  {
   "cell_type": "code",
   "execution_count": null,
   "metadata": {},
   "outputs": [],
   "source": [
    "# build darknet\n",
    "%cd darknet\n",
    "\n",
    "!sed -i 's/OPENCV=0/OPENCV=1/' Makefile\n",
    "!sed -i 's/GPU=0/GPU=1/' Makefile\n",
    "!sed -i 's/CUDNN=0/CUDNN=1/' Makefile\n",
    "!sed -i 's/CUDNN_HALF=0/CUDNN_HALF=1/' Makefile\n",
    "!sed -i 's/OPENMP=0/OPENMP=1/' Makefile\n",
    "\n",
    "!make\n"
   ]
  },
  {
   "cell_type": "code",
   "execution_count": null,
   "metadata": {},
   "outputs": [],
   "source": [
    "# download initial weight\n",
    "\n",
    "!wget https://github.com/AlexeyAB/darknet/releases/download/darknet_yolo_v3_optimal/yolov4.conv.137"
   ]
  },
  {
   "cell_type": "code",
   "execution_count": null,
   "metadata": {},
   "outputs": [],
   "source": [
    "# start training\n",
    "\n",
    "!./darknet detector train /content/yolov4/data/obj.data /content/yolov4/data/obj.cfg /content/yolov4/darknet/yolov4.conv.137 -dont_show -map"
   ]
  },
  {
   "cell_type": "code",
   "execution_count": null,
   "metadata": {},
   "outputs": [],
   "source": [
    "# resuming training [optional]\n",
    "\n",
    "!./darknet detector train /content/yolov4/data/obj.data /content/yolov4/data/obj.cfg /content/yolov4/outputs/yolov4-obj_last.weights -dont_show -map"
   ]
  },
  {
   "cell_type": "code",
   "execution_count": null,
   "metadata": {},
   "outputs": [],
   "source": [
    "# checking mAP\n",
    "\n",
    "!./darknet detector map /content/yolov4/data/obj.data /content/yolov4/data/obj.cfg /content/yolov4/outputs/yolov4-obj_1000.weights"
   ]
  },
  {
   "cell_type": "code",
   "execution_count": null,
   "metadata": {},
   "outputs": [],
   "source": [
    "# testing the ANPD model on image\n",
    "\n",
    "!./darknet detector test /content/yolov4/data/obj.data /content/yolov4/data/obj.cfg /content/yolov4/outputs/yolov4-obj_last.weights /content/yolov4/test/img1.jpg -thresh 0.3\n"
   ]
  },
  {
   "cell_type": "code",
   "execution_count": null,
   "metadata": {},
   "outputs": [],
   "source": [
    "# testing the ANPD model on video\n",
    "\n",
    "!./darknet detector test /content/yolov4/data/obj.data /content/yolov4/data/obj.cfg /content/yolov4/outputs/yolov4-obj_last.weights /content/yolov4/test/vid1.mp4 -thresh 0.3\n"
   ]
  }
 ],
 "metadata": {
  "interpreter": {
   "hash": "ecf5722fdaf1897a315d257d89d94520bfcaa453217d5becf09b39e73618b0de"
  },
  "kernelspec": {
   "display_name": "Python 3.9.7 64-bit ('base': conda)",
   "language": "python",
   "name": "python3"
  },
  "language_info": {
   "codemirror_mode": {
    "name": "ipython",
    "version": 3
   },
   "file_extension": ".py",
   "mimetype": "text/x-python",
   "name": "python",
   "nbconvert_exporter": "python",
   "pygments_lexer": "ipython3",
   "version": "3.9.7"
  },
  "orig_nbformat": 4
 },
 "nbformat": 4,
 "nbformat_minor": 2
}
